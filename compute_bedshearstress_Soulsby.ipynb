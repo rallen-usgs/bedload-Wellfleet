{
 "cells": [
  {
   "cell_type": "markdown",
   "id": "ec389fe7-4b80-4b75-964f-cbae4766936a",
   "metadata": {},
   "source": [
    "use Soulsby (Dynamics of Marine Sands) text section 5.3 to compute bed shear stress (mean and max) from waves and currents\n",
    "\n",
    "below is an implementation of values in example 5.1 "
   ]
  },
  {
   "cell_type": "code",
   "execution_count": 1,
   "id": "50385244-9d3b-4dc0-9063-102a0a391a6a",
   "metadata": {},
   "outputs": [],
   "source": [
    "import numpy as np\n",
    "import matplotlib.pyplot as plt\n",
    "\n",
    "%run -i sedfuncs.py"
   ]
  },
  {
   "cell_type": "markdown",
   "id": "c13baeb7-a701-4ec7-980d-37696660195d",
   "metadata": {},
   "source": [
    "start out by using the values in the Soulsby text: example 5.1"
   ]
  },
  {
   "cell_type": "code",
   "execution_count": 2,
   "id": "8107f50c-0b31-4dbe-ba23-f6a0c65dcaf3",
   "metadata": {},
   "outputs": [],
   "source": [
    "uw = 0.5 # m s-1, near-bed orbital velocity\n",
    "T = 12.6 # s, wave period\n",
    "phi = 30 # deg, relative angle to currents\n",
    "U = 1 # m s-1, depth averaged current magnitude\n",
    "z0 = 0.001 # m, roughness length of hydrodynamically rough bed\n",
    "h = 10 # m, water depth\n",
    "rho = 1027 # kg m-3, water density"
   ]
  },
  {
   "cell_type": "code",
   "execution_count": 3,
   "id": "5c6b30e3-8d48-4c65-9092-adc2f65d62ad",
   "metadata": {},
   "outputs": [
    {
     "data": {
      "text/plain": [
       "0.0001"
      ]
     },
     "execution_count": 3,
     "metadata": {},
     "output_type": "execute_result"
    }
   ],
   "source": [
    "# calculate Cd using z0/h; table 10\n",
    "z0/h"
   ]
  },
  {
   "cell_type": "code",
   "execution_count": 4,
   "id": "f82cd909-a515-41e8-9695-d131f94b56fc",
   "metadata": {},
   "outputs": [],
   "source": [
    "Cd = 0.00237 # Grant-Madsen or DATA 2"
   ]
  },
  {
   "cell_type": "code",
   "execution_count": 5,
   "id": "d138c93b-4ab2-4c1a-800e-36bf5ae4d6d7",
   "metadata": {},
   "outputs": [
    {
     "data": {
      "text/plain": [
       "1002.6761414789406"
      ]
     },
     "execution_count": 5,
     "metadata": {},
     "output_type": "execute_result"
    }
   ],
   "source": [
    "# calculate wave friction factor fw; table 10\n",
    "A = uw*T/(2*np.pi)\n",
    "A/z0"
   ]
  },
  {
   "cell_type": "code",
   "execution_count": 6,
   "id": "cf75fb2e-4e60-46cd-b4b9-8fb0879335f9",
   "metadata": {},
   "outputs": [],
   "source": [
    "fw = 0.0316 # Grant-Madsen\n"
   ]
  },
  {
   "cell_type": "code",
   "execution_count": 7,
   "id": "9eff964e-fea1-46e4-9bcf-15ea07364d5b",
   "metadata": {},
   "outputs": [
    {
     "data": {
      "text/plain": [
       "2.43399"
      ]
     },
     "execution_count": 7,
     "metadata": {},
     "output_type": "execute_result"
    }
   ],
   "source": [
    "# current only bed shear stress\n",
    "tauc = rho*Cd*U**2 # N m-2\n",
    "tauc"
   ]
  },
  {
   "cell_type": "code",
   "execution_count": 8,
   "id": "21906839-9f86-48bb-bd77-c9afdbd23c60",
   "metadata": {},
   "outputs": [
    {
     "data": {
      "text/plain": [
       "4.05665"
      ]
     },
     "execution_count": 8,
     "metadata": {},
     "output_type": "execute_result"
    }
   ],
   "source": [
    "# wave-only peak bed shear stress\n",
    "tauw = 0.5*rho*fw*uw**2 # N m-2\n",
    "tauw"
   ]
  },
  {
   "cell_type": "code",
   "execution_count": 9,
   "id": "29d0a555-4837-4031-ad9f-751f9d8b224d",
   "metadata": {},
   "outputs": [
    {
     "data": {
      "text/plain": [
       "0.37499999999999994"
      ]
     },
     "execution_count": 9,
     "metadata": {},
     "output_type": "execute_result"
    }
   ],
   "source": [
    "# proportion of wave and current stresses: X\n",
    "X = tauc/(tauc+tauw)\n",
    "X"
   ]
  },
  {
   "cell_type": "code",
   "execution_count": 10,
   "id": "ba3a4506-0f64-416f-bc68-83f7dc73d298",
   "metadata": {},
   "outputs": [],
   "source": [
    "# tau max cooefficient values for the chosen model: Grant-Madsen\n",
    "a1 = 0.11\n",
    "a2 = 1.95\n",
    "a3 = -0.49\n",
    "a4 = -0.28\n",
    "m1 = 0.65\n",
    "m2 = -0.22\n",
    "m3 = 0.15\n",
    "m4 = 0.06\n",
    "n1 = 0.71\n",
    "n2 = -0.19\n",
    "n3 = 0.17\n",
    "n4 = -0.15\n",
    "I = 0.67"
   ]
  },
  {
   "cell_type": "code",
   "execution_count": 11,
   "id": "46dc8a4d-cb7d-42fd-b52c-4a23fce78d72",
   "metadata": {},
   "outputs": [],
   "source": [
    "# tau mean coefficient values for the chosen model: Grant-Madsen\n",
    "b1 = 0.73\n",
    "b2 = 0.40\n",
    "b3 = -0.23\n",
    "b4 = -0.24\n",
    "p1 =  -0.68\n",
    "p2 = 0.13\n",
    "p3 = 0.24\n",
    "p4 = -0.07\n",
    "q1 = 1.04\n",
    "q2 = -0.56\n",
    "q3 = 0.34\n",
    "q4 = -0.27\n",
    "J = 0.50"
   ]
  },
  {
   "cell_type": "code",
   "execution_count": 12,
   "id": "c0328164-676b-48cf-8685-85ab7c7da3c2",
   "metadata": {},
   "outputs": [
    {
     "data": {
      "text/plain": [
       "0.8660254037844387"
      ]
     },
     "execution_count": 12,
     "metadata": {},
     "output_type": "execute_result"
    }
   ],
   "source": [
    "np.cos(phi*(2*np.pi)/360)"
   ]
  },
  {
   "cell_type": "code",
   "execution_count": 13,
   "id": "54f2e758-7668-482e-85ed-7acd9d366289",
   "metadata": {},
   "outputs": [],
   "source": [
    "# compute tau_max and tau_mean coeffs"
   ]
  },
  {
   "cell_type": "code",
   "execution_count": 14,
   "id": "88eff3b8-b9e6-436b-8f0b-fb6aad650336",
   "metadata": {},
   "outputs": [],
   "source": [
    "def tau_coeffs(c1,c2,c3,c4,K,phi,fw,Cd):\n",
    "    \"\"\"\n",
    "    compute c = (c1 + c2|cos phi|^K) + (c3 + c4|cos phi|^K)*log10(fw/Cd)\n",
    "    Soulsby, Dynamics of Marine Sands, pg 94\n",
    "\n",
    "    phi is in degrees\n",
    "\n",
    "    needed for parameters a, m, n, and I for Z computation\n",
    "    or for parameters b, p, q, and J for Y computation\n",
    "    \"\"\"\n",
    "    phi_rad = phi*(2*np.pi)/360\n",
    "    \n",
    "    c = (c1+c2*np.cos(phi_rad)**K)+((c3+c4*np.cos(phi_rad)**K)*np.log10(fw/Cd))\n",
    "    return c"
   ]
  },
  {
   "cell_type": "code",
   "execution_count": 15,
   "id": "8e41bf37-45d6-4476-b4ef-149b0f84ce32",
   "metadata": {},
   "outputs": [
    {
     "data": {
      "text/plain": [
       "1.0435796011844096"
      ]
     },
     "execution_count": 15,
     "metadata": {},
     "output_type": "execute_result"
    }
   ],
   "source": [
    "a = tau_coeffs(a1,a2,a3,a4,I,phi,fw,Cd)\n",
    "a"
   ]
  },
  {
   "cell_type": "code",
   "execution_count": 16,
   "id": "7d5e8ddd-81df-4a59-ab21-118d3898dcb6",
   "metadata": {},
   "outputs": [
    {
     "data": {
      "text/plain": [
       "0.6802484444717939"
      ]
     },
     "execution_count": 16,
     "metadata": {},
     "output_type": "execute_result"
    }
   ],
   "source": [
    "m = tau_coeffs(m1,m2,m3,m4,I,phi,fw,Cd)\n",
    "m"
   ]
  },
  {
   "cell_type": "code",
   "execution_count": 17,
   "id": "a822d6e5-f78b-45a0-90ab-6ffbd39d8b43",
   "metadata": {},
   "outputs": [
    {
     "data": {
      "text/plain": [
       "0.5754581680155827"
      ]
     },
     "execution_count": 17,
     "metadata": {},
     "output_type": "execute_result"
    }
   ],
   "source": [
    "n = tau_coeffs(n1,n2,n3,n4,I,phi,fw,Cd)\n",
    "n"
   ]
  },
  {
   "cell_type": "code",
   "execution_count": 18,
   "id": "c5a38657-f3a5-4981-92f5-71ec8047d6cb",
   "metadata": {},
   "outputs": [
    {
     "data": {
      "text/plain": [
       "0.5922564051457643"
      ]
     },
     "execution_count": 18,
     "metadata": {},
     "output_type": "execute_result"
    }
   ],
   "source": [
    "b = tau_coeffs(b1,b2,b3,b4,J,phi,fw,Cd)\n",
    "b"
   ]
  },
  {
   "cell_type": "code",
   "execution_count": 19,
   "id": "8f54ce1c-2af4-4831-b753-afa5d2ab76ba",
   "metadata": {},
   "outputs": [
    {
     "data": {
      "text/plain": [
       "-0.36231721334432543"
      ]
     },
     "execution_count": 19,
     "metadata": {},
     "output_type": "execute_result"
    }
   ],
   "source": [
    "p = tau_coeffs(p1,p2,p3,p4,J,phi,fw,Cd)\n",
    "p"
   ]
  },
  {
   "cell_type": "code",
   "execution_count": 20,
   "id": "90c8a135-4fa4-4e28-b54b-1fd297ffda5d",
   "metadata": {},
   "outputs": [
    {
     "data": {
      "text/plain": [
       "0.6186846166400837"
      ]
     },
     "execution_count": 20,
     "metadata": {},
     "output_type": "execute_result"
    }
   ],
   "source": [
    "q = tau_coeffs(q1,q2,q3,q4,J,phi,fw,Cd)\n",
    "q"
   ]
  },
  {
   "cell_type": "code",
   "execution_count": 21,
   "id": "34b846dc-2744-400a-bf1d-747c9732a824",
   "metadata": {},
   "outputs": [
    {
     "data": {
      "text/plain": [
       "1.4086001319792205"
      ]
     },
     "execution_count": 21,
     "metadata": {},
     "output_type": "execute_result"
    }
   ],
   "source": [
    "Z = 1+a*X**m*(1-X)**n\n",
    "Z"
   ]
  },
  {
   "cell_type": "code",
   "execution_count": 22,
   "id": "bfa2a589-22b1-43ba-b7cc-5a2f568716ac",
   "metadata": {},
   "outputs": [
    {
     "data": {
      "text/plain": [
       "0.6119141197266875"
      ]
     },
     "execution_count": 22,
     "metadata": {},
     "output_type": "execute_result"
    }
   ],
   "source": [
    "Y = X*(1+b*X**p*(1-X)**q)\n",
    "Y"
   ]
  },
  {
   "cell_type": "code",
   "execution_count": 23,
   "id": "6c085aff-7dbf-4192-9314-a7466888e88c",
   "metadata": {},
   "outputs": [
    {
     "data": {
      "text/plain": [
       "9.14271636062961"
      ]
     },
     "execution_count": 23,
     "metadata": {},
     "output_type": "execute_result"
    }
   ],
   "source": [
    "taumax = Z*(tauc+tauw) # N m-2\n",
    "taumax"
   ]
  },
  {
   "cell_type": "markdown",
   "id": "fb71a3d3-5824-44d0-bcbf-140a3f5c8313",
   "metadata": {},
   "source": [
    "The value in the text is taumax = 9.15 N m-2"
   ]
  },
  {
   "cell_type": "code",
   "execution_count": 24,
   "id": "2f8e8744-6178-4006-9458-b323490cf530",
   "metadata": {},
   "outputs": [
    {
     "data": {
      "text/plain": [
       "3.9717142620628274"
      ]
     },
     "execution_count": 24,
     "metadata": {},
     "output_type": "execute_result"
    }
   ],
   "source": [
    "taumean = Y*(tauc+tauw) # N m-2\n",
    "taumean"
   ]
  },
  {
   "cell_type": "markdown",
   "id": "a678f8fa-f0f3-46f1-ac71-d5f9148783de",
   "metadata": {},
   "source": [
    "The value in the text is taumean = 3.97 N m-2"
   ]
  },
  {
   "cell_type": "markdown",
   "id": "f886266f-0d36-44e1-b0ff-9d1bdfe0a293",
   "metadata": {},
   "source": [
    "Try again for the DATA2 method"
   ]
  },
  {
   "cell_type": "code",
   "execution_count": 25,
   "id": "008aa0e6-175d-45f0-8756-778d44e3bc3b",
   "metadata": {},
   "outputs": [
    {
     "data": {
      "text/plain": [
       "4.9167625"
      ]
     },
     "execution_count": 25,
     "metadata": {},
     "output_type": "execute_result"
    }
   ],
   "source": [
    "fw = 0.0383 # DATA 2\n",
    "# Cd is the same for Grant-Madsen\n",
    "# therefore, tauc is also the same\n",
    "tauw = 0.5*rho*fw*uw**2 # N m-2\n",
    "tauw"
   ]
  },
  {
   "cell_type": "code",
   "execution_count": 26,
   "id": "7e452f37-866f-41fb-8aa7-0db4d91fa3a5",
   "metadata": {},
   "outputs": [],
   "source": [
    "# DATA2 model"
   ]
  },
  {
   "cell_type": "code",
   "execution_count": 27,
   "id": "3c2a112f-79fe-4bc3-9c0b-0a45e400d828",
   "metadata": {},
   "outputs": [
    {
     "data": {
      "text/plain": [
       "3.2405038180099037"
      ]
     },
     "execution_count": 27,
     "metadata": {},
     "output_type": "execute_result"
    }
   ],
   "source": [
    "taumean = tauc*(1+1.2*(tauw/(tauc+tauw))**3.2)\n",
    "taumean"
   ]
  },
  {
   "cell_type": "markdown",
   "id": "fcc7e01d-a289-46e0-854d-2251a56152b0",
   "metadata": {},
   "source": [
    "The value in the text is taumean = 3.24 N m-2"
   ]
  },
  {
   "cell_type": "code",
   "execution_count": 28,
   "id": "d77e5efb-3698-419d-8cb6-870f7d50785b",
   "metadata": {},
   "outputs": [
    {
     "data": {
      "text/plain": [
       "7.89124934329207"
      ]
     },
     "execution_count": 28,
     "metadata": {},
     "output_type": "execute_result"
    }
   ],
   "source": [
    "taumax = ((taumean + tauw*np.cos(phi*(2*np.pi)/360))**2 + (tauw*np.sin(phi*(2*np.pi)/360))**2)**0.5\n",
    "taumax"
   ]
  },
  {
   "cell_type": "markdown",
   "id": "50ebe0a0-9f47-4ec0-bdd1-353f8662e4fa",
   "metadata": {},
   "source": [
    "The value in the text is taumax = 7.89 N m-2"
   ]
  },
  {
   "cell_type": "code",
   "execution_count": null,
   "id": "945fae10-b48a-4629-a85e-2a20618ad182",
   "metadata": {},
   "outputs": [],
   "source": []
  }
 ],
 "metadata": {
  "kernelspec": {
   "display_name": "Python 3 (ipykernel)",
   "language": "python",
   "name": "python3"
  },
  "language_info": {
   "codemirror_mode": {
    "name": "ipython",
    "version": 3
   },
   "file_extension": ".py",
   "mimetype": "text/x-python",
   "name": "python",
   "nbconvert_exporter": "python",
   "pygments_lexer": "ipython3",
   "version": "3.9.16"
  }
 },
 "nbformat": 4,
 "nbformat_minor": 5
}

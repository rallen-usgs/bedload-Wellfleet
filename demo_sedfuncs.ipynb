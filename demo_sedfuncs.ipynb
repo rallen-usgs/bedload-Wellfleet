{
 "cells": [
  {
   "cell_type": "code",
   "execution_count": 4,
   "id": "04936cf5",
   "metadata": {},
   "outputs": [],
   "source": [
    "import numpy as np\n",
    "import matplotlib.pyplot as plt\n",
    "\n",
    "%run -i sedfuncs.py"
   ]
  },
  {
   "cell_type": "code",
   "execution_count": 3,
   "id": "196d1b6b",
   "metadata": {},
   "outputs": [
    {
     "name": "stdout",
     "output_type": "stream",
     "text": [
      "0.4641801957195109 0.09283603914390218\n"
     ]
    }
   ],
   "source": [
    "# Calculate wavenumber\n",
    "\n",
    "T = 10. # wave period (s)\n",
    "h = 5.  # water depth (m)\n",
    "\n",
    "kh = qkhfs(2.*np.pi/T, h)\n",
    "print(kh, kh/h)"
   ]
  },
  {
   "cell_type": "code",
   "execution_count": 6,
   "id": "42e15f17",
   "metadata": {},
   "outputs": [
    {
     "name": "stdout",
     "output_type": "stream",
     "text": [
      "0.6530974940757303\n"
     ]
    }
   ],
   "source": [
    "# Calculate wave-orbital velocity from Hs, T, h\n",
    "Hs = 1.\n",
    "ub = ub_func(T, kh/h, Hs, h)\n",
    "print(ub)"
   ]
  }
 ],
 "metadata": {
  "kernelspec": {
   "display_name": "Python 3 (ipykernel)",
   "language": "python",
   "name": "python3"
  },
  "language_info": {
   "codemirror_mode": {
    "name": "ipython",
    "version": 3
   },
   "file_extension": ".py",
   "mimetype": "text/x-python",
   "name": "python",
   "nbconvert_exporter": "python",
   "pygments_lexer": "ipython3",
   "version": "3.9.16"
  }
 },
 "nbformat": 4,
 "nbformat_minor": 5
}

{
 "cells": [
  {
   "cell_type": "code",
   "execution_count": 1,
   "id": "17b43e16",
   "metadata": {},
   "outputs": [],
   "source": [
    "import numpy as np\n",
    "import matplotlib.pyplot as plt\n",
    "\n",
    "%run -i sedfuncs.py"
   ]
  },
  {
   "cell_type": "code",
   "execution_count": 2,
   "id": "1abf7368",
   "metadata": {},
   "outputs": [
    {
     "name": "stdout",
     "output_type": "stream",
     "text": [
      "kh: 0.592 m, k: 0.118\n"
     ]
    }
   ],
   "source": [
    "# Calculate wavenumber\n",
    "T = 8.            # wave period (s)\n",
    "wr = 2.*np.pi/T    # wave period (radians)\n",
    "h = 5.             # water depth (m)\n",
    "\n",
    "kh = qkhfs(wr, h)\n",
    "\n",
    "print('kh: {:.3f} m, k: {:.3f}'.format(kh, kh/h))"
   ]
  },
  {
   "cell_type": "code",
   "execution_count": 3,
   "id": "1cb23731",
   "metadata": {},
   "outputs": [
    {
     "name": "stdout",
     "output_type": "stream",
     "text": [
      "ub: 0.31 m/s\n"
     ]
    }
   ],
   "source": [
    "# Calculate wave-orbital velocity from Hs, T, h\n",
    "Hs = 0.5\n",
    "ubr = ub_func(T, kh/h, Hs, h)\n",
    "\n",
    "print('ub: {:.2f} m/s'.format(ubr))"
   ]
  },
  {
   "cell_type": "code",
   "execution_count": 4,
   "id": "9bde4086",
   "metadata": {},
   "outputs": [
    {
     "name": "stdout",
     "output_type": "stream",
     "text": [
      "[1.] [2.63136173]\n",
      "M94 nit= 3\n",
      "i=0 fwc=[0.09923453] dwc=[0.15] u*c=[0.04806846] u*wm=[0.06905229] u*r=[0.06905229]  \n",
      "i=1 fwc=[0.11676234] dwc=[0.15] u*c=[0.05234513] u*wm=[0.07490281] u*r=[0.08817183]  \n",
      "i=2 fwc=[0.11690138] dwc=[0.15] u*c=[0.05237671] u*wm=[0.07494739] u*r=[0.08832832]  \n",
      "[0.05237677] [0.08832864] [0.] [0.15] [0.11690167] [0.01996152]\n"
     ]
    }
   ],
   "source": [
    "# Calculate wave-current bottoms shear stresses\n",
    "# (this runs, but does not exactly match my Matlab output...still working)\n",
    "ubr = 0.31\n",
    "ucr = .5               # current speed at zr (m/s)\n",
    "zr = 1.                # measurement elevation (m)\n",
    "phiwc = 45.*np.pi/180. # angle between waves and currents (radians)\n",
    "z0 = .005              # bottom roughness length scale (m)\n",
    "kN = 30.*z0            # Nikuradse roughness (m)\n",
    "\n",
    "ustrc, ustrr, ustrwm, dwc, fwc, zoa = \\\n",
    "    m94( ubr, wr, ucr, zr, phiwc, kN, iverbose=True )\n",
    "\n",
    "print(ustrc, ustrr, ustrwm, dwc, fwc, zoa)"
   ]
  }
 ],
 "metadata": {
  "kernelspec": {
   "display_name": "Python 3 (ipykernel)",
   "language": "python",
   "name": "python3"
  },
  "language_info": {
   "codemirror_mode": {
    "name": "ipython",
    "version": 3
   },
   "file_extension": ".py",
   "mimetype": "text/x-python",
   "name": "python",
   "nbconvert_exporter": "python",
   "pygments_lexer": "ipython3",
   "version": "3.9.16"
  }
 },
 "nbformat": 4,
 "nbformat_minor": 5
}

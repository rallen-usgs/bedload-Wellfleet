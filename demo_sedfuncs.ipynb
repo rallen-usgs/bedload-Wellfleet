{
 "cells": [
  {
   "cell_type": "code",
   "execution_count": 1,
   "id": "17b43e16",
   "metadata": {},
   "outputs": [],
   "source": [
    "import numpy as np\n",
    "import pandas as pd\n",
    "import matplotlib.pyplot as plt\n",
    "\n",
    "%run -i sedfuncs.py"
   ]
  },
  {
   "cell_type": "code",
   "execution_count": 2,
   "id": "1abf7368",
   "metadata": {},
   "outputs": [
    {
     "name": "stdout",
     "output_type": "stream",
     "text": [
      "kh: 0.592 m, k: 0.118\n"
     ]
    }
   ],
   "source": [
    "# Calculate wavenumber\n",
    "T = 8.            # wave period (s)\n",
    "wr = 2.*np.pi/T    # wave period (radians)\n",
    "h = 5.             # water depth (m)\n",
    "\n",
    "kh = qkhfs(wr, h)\n",
    "\n",
    "print('kh: {:.3f} m, k: {:.3f}'.format(kh, kh/h))"
   ]
  },
  {
   "cell_type": "code",
   "execution_count": 3,
   "id": "1cb23731",
   "metadata": {},
   "outputs": [
    {
     "name": "stdout",
     "output_type": "stream",
     "text": [
      "ub: 0.31 m/s\n"
     ]
    }
   ],
   "source": [
    "# Calculate wave-orbital velocity from Hs, T, h\n",
    "Hs = 0.5\n",
    "ubr = ub_func(T, kh/h, Hs, h)\n",
    "\n",
    "print('ub: {:.2f} m/s'.format(ubr))"
   ]
  },
  {
   "cell_type": "code",
   "execution_count": 4,
   "id": "9bde4086",
   "metadata": {},
   "outputs": [
    {
     "name": "stdout",
     "output_type": "stream",
     "text": [
      "[1.] [2.63136173]\n",
      "M94 nit= 3\n",
      "i=0 fwc=[0.09923453] dwc=[0.15] u*c=[0.04806846] u*wm=[0.06905229] u*r=[0.06905229]  \n",
      "i=1 fwc=[0.11676234] dwc=[0.15] u*c=[0.05234513] u*wm=[0.07490281] u*r=[0.08817183]  \n",
      "i=2 fwc=[0.11690138] dwc=[0.15] u*c=[0.05237671] u*wm=[0.07494739] u*r=[0.08832832]  \n",
      "[0.05237677] [0.08832864] [0.] [0.15] [0.11690167] [0.01996152]\n"
     ]
    }
   ],
   "source": [
    "# Calculate wave-current bottoms shear stresses\n",
    "# (this runs, but does not exactly match my Matlab output...still working)\n",
    "ubr = 0.31\n",
    "ucr = .5               # current speed at zr (m/s)\n",
    "zr = 1.                # measurement elevation (m)\n",
    "phiwc = 45.*np.pi/180. # angle between waves and currents (radians)\n",
    "z0 = .005              # bottom roughness length scale (m)\n",
    "kN = 30.*z0            # Nikuradse roughness (m)\n",
    "\n",
    "ustrc, ustrr, ustrwm, dwc, fwc, zoa = \\\n",
    "    m94( ubr, wr, ucr, zr, phiwc, kN, iverbose=True )\n",
    "\n",
    "print(ustrc, ustrr, ustrwm, dwc, fwc, zoa)"
   ]
  },
  {
   "cell_type": "code",
   "execution_count": 5,
   "id": "40622a7d",
   "metadata": {},
   "outputs": [
    {
     "data": {
      "text/html": [
       "<div>\n",
       "<style scoped>\n",
       "    .dataframe tbody tr th:only-of-type {\n",
       "        vertical-align: middle;\n",
       "    }\n",
       "\n",
       "    .dataframe tbody tr th {\n",
       "        vertical-align: top;\n",
       "    }\n",
       "\n",
       "    .dataframe thead th {\n",
       "        text-align: right;\n",
       "    }\n",
       "</style>\n",
       "<table border=\"1\" class=\"dataframe\">\n",
       "  <thead>\n",
       "    <tr style=\"text-align: right;\">\n",
       "      <th></th>\n",
       "      <th>0</th>\n",
       "      <th>1</th>\n",
       "    </tr>\n",
       "  </thead>\n",
       "  <tbody>\n",
       "    <tr>\n",
       "      <th>0</th>\n",
       "      <td>0.500000</td>\n",
       "      <td>0.237764</td>\n",
       "    </tr>\n",
       "    <tr>\n",
       "      <th>1</th>\n",
       "      <td>0.492404</td>\n",
       "      <td>0.220737</td>\n",
       "    </tr>\n",
       "    <tr>\n",
       "      <th>2</th>\n",
       "      <td>0.469846</td>\n",
       "      <td>0.197003</td>\n",
       "    </tr>\n",
       "    <tr>\n",
       "      <th>3</th>\n",
       "      <td>0.433013</td>\n",
       "      <td>0.167283</td>\n",
       "    </tr>\n",
       "    <tr>\n",
       "      <th>4</th>\n",
       "      <td>0.383022</td>\n",
       "      <td>0.132480</td>\n",
       "    </tr>\n",
       "    <tr>\n",
       "      <th>...</th>\n",
       "      <td>...</td>\n",
       "      <td>...</td>\n",
       "    </tr>\n",
       "    <tr>\n",
       "      <th>56</th>\n",
       "      <td>-0.469846</td>\n",
       "      <td>-0.197003</td>\n",
       "    </tr>\n",
       "    <tr>\n",
       "      <th>57</th>\n",
       "      <td>-0.433013</td>\n",
       "      <td>-0.167283</td>\n",
       "    </tr>\n",
       "    <tr>\n",
       "      <th>58</th>\n",
       "      <td>-0.383022</td>\n",
       "      <td>-0.132480</td>\n",
       "    </tr>\n",
       "    <tr>\n",
       "      <th>59</th>\n",
       "      <td>-0.321394</td>\n",
       "      <td>-0.093652</td>\n",
       "    </tr>\n",
       "    <tr>\n",
       "      <th>60</th>\n",
       "      <td>-0.250000</td>\n",
       "      <td>-0.051978</td>\n",
       "    </tr>\n",
       "  </tbody>\n",
       "</table>\n",
       "<p>61 rows × 2 columns</p>\n",
       "</div>"
      ],
      "text/plain": [
       "           0         1\n",
       "0   0.500000  0.237764\n",
       "1   0.492404  0.220737\n",
       "2   0.469846  0.197003\n",
       "3   0.433013  0.167283\n",
       "4   0.383022  0.132480\n",
       "..       ...       ...\n",
       "56 -0.469846 -0.197003\n",
       "57 -0.433013 -0.167283\n",
       "58 -0.383022 -0.132480\n",
       "59 -0.321394 -0.093652\n",
       "60 -0.250000 -0.051978\n",
       "\n",
       "[61 rows x 2 columns]"
      ]
     },
     "execution_count": 5,
     "metadata": {},
     "output_type": "execute_result"
    },
    {
     "data": {
      "image/png": "[encoded data removed]",
      "text/plain": [
       "<Figure size 640x480 with 1 Axes>"
      ]
     },
     "metadata": {},
     "output_type": "display_data"
    }
   ],
   "source": [
    "# read in test data for pcastats\n",
    "df = pd.read_csv('D:/crs/matlab/m_cmg/cmglib/test_uv.csv', header=None)\n",
    "u = df.iloc[:,0]\n",
    "v = df.iloc[:,1]\n",
    "plt.plot(u,v,'.')\n",
    "df"
   ]
  },
  {
   "cell_type": "code",
   "execution_count": 9,
   "id": "7f55b362",
   "metadata": {},
   "outputs": [
    {
     "name": "stdout",
     "output_type": "stream",
     "text": [
      "-0.03851932786885246 -0.028625426229508196\n",
      "[[ 0.5       0.492404  0.469846  0.433013  0.383022  0.321394  0.25\n",
      "   0.17101   0.086824  0.       -0.086824 -0.17101  -0.25     -0.321394\n",
      "  -0.383022 -0.433013 -0.469846 -0.492404 -0.5      -0.492404 -0.469846\n",
      "  -0.433013 -0.383022 -0.321394 -0.25     -0.17101  -0.086824 -0.\n",
      "   0.086824  0.17101   0.25      0.321394  0.383022  0.433013  0.469846\n",
      "   0.492404  0.5       0.492404  0.469846  0.433013  0.383022  0.321394\n",
      "   0.25      0.17101   0.086824  0.       -0.086824 -0.17101  -0.25\n",
      "  -0.321394 -0.383022 -0.433013 -0.469846 -0.492404 -0.5      -0.492404\n",
      "  -0.469846 -0.433013 -0.383022 -0.321394 -0.25    ]\n",
      " [ 0.237764  0.220737  0.197003  0.167283  0.13248   0.093652  0.051978\n",
      "   0.008725 -0.034793 -0.077254 -0.117368 -0.153915 -0.185786 -0.212012\n",
      "  -0.231796 -0.244537 -0.249848 -0.247567 -0.237764 -0.220737 -0.197003\n",
      "  -0.167283 -0.13248  -0.093652 -0.051978 -0.008725  0.034793  0.077254\n",
      "   0.117368  0.153915  0.185786  0.212012  0.231796  0.244537  0.249848\n",
      "   0.247567  0.237764  0.220737  0.197003  0.167283  0.13248   0.093652\n",
      "   0.051978  0.008725 -0.034793 -0.077254 -0.117368 -0.153915 -0.185786\n",
      "  -0.212012 -0.231796 -0.244537 -0.249848 -0.247567 -0.237764 -0.220737\n",
      "  -0.197003 -0.167283 -0.13248  -0.093652 -0.051978]]\n",
      "[[0.13121182 0.06048273]\n",
      " [0.06048273 0.03064317]]\n",
      "eigenvalues: \n",
      " [0.15958291 0.00227208]\n",
      "eigenvectors: \n",
      " [[ 0.90534495 -0.42467697]\n",
      " [ 0.42467697  0.90534495]]\n",
      "[0.18083282891988842, -0.18083282891988842] [0.08482461628756247, -0.08482461628756247]\n",
      "[-0.010121400754246116, 0.010121400754246116] [0.02157724503954621, -0.02157724503954621]\n",
      "l1, az1 0.19973914875031845 64.86978167959296\n",
      "l2, az2 0.023833175548480218 334.86978167959296\n"
     ]
    }
   ],
   "source": [
    "mu = np.mean(u)\n",
    "mv = np.mean(v)\n",
    "print(mu, mv)\n",
    "m = np.squeeze( np.dstack( (u,v) ) ).T\n",
    "print(m)\n",
    "C = np.cov( m )\n",
    "print(C)\n",
    "V, D = np.linalg.eig(C)\n",
    "print('eigenvalues: \\n', V)\n",
    "print('eigenvectors: \\n', D)\n",
    "\n",
    "x1 = [.5*np.sqrt(V[0])*D[0,0],\n",
    "     -.5*np.sqrt(V[0])*D[0,0]]\n",
    "\n",
    "y1 = [.5*np.sqrt(V[0])*D[1,0],\n",
    "     -.5*np.sqrt(V[0])*D[1,0]]\n",
    "\n",
    "x2 = [.5*np.sqrt(V[1])*D[0,1],\n",
    "     -.5*np.sqrt(V[1])*D[0,1]]\n",
    "\n",
    "y2 = [.5*np.sqrt(V[1])*D[1,1],\n",
    "     -.5*np.sqrt(V[1])*D[1,1]]\n",
    "print(x1,y1)\n",
    "print(x2,y2)\n",
    "\n",
    "mspd, mdir = pcoord( mu, mv )\n",
    "l1, az1 = pcoord( x1[0], y1[0] );\n",
    "l2, az2 = pcoord( x2[0], y2[0] );\n",
    "if(l1 < l2):\n",
    "    ltemp = l1\n",
    "    aztemp = az1\n",
    "    l1 = l2\n",
    "    az1 = az2\n",
    "    l2 = ltemp\n",
    "    az2 = aztemp\n",
    "\n",
    "sd1 = 2*l1\n",
    "sd2 = 2*l2\n",
    "print('l1, az1', l1, az1)\n",
    "print('l2, az2', l2, az2)"
   ]
  },
  {
   "cell_type": "code",
   "execution_count": 7,
   "id": "9cf95596",
   "metadata": {},
   "outputs": [
    {
     "ename": "IndentationError",
     "evalue": "expected an indented block (2218612524.py, line 2)",
     "output_type": "error",
     "traceback": [
      "\u001b[1;36m  File \u001b[1;32m\"C:\\Users\\csherwood\\AppData\\Local\\Temp\\2\\ipykernel_15848\\2218612524.py\"\u001b[1;36m, line \u001b[1;32m2\u001b[0m\n\u001b[1;33m    \"\"\"\u001b[0m\n\u001b[1;37m    ^\u001b[0m\n\u001b[1;31mIndentationError\u001b[0m\u001b[1;31m:\u001b[0m expected an indented block\n"
     ]
    }
   ],
   "source": [
    "def pcastats(u, v, s=0, ipost=0):\n",
    "\"\"\"\n",
    "% PCASTATS  Principal components of 2-d (e.g. current meter) data\n",
    "%\n",
    "% function [sd1 az1 sd2 az2]=pcastats(u,v,[[s],ipost])\n",
    "%\n",
    "% Input:\n",
    "%    u and v are 1D column (vertical) vectors with x and y data\n",
    "%    s is an optional length for the axes\n",
    "%    ipost is an optional flag 0=no action, >1=plot input data\n",
    "%\n",
    "% Returns:\n",
    "%    sd1, az1, sd2, az2\n",
    "%\n",
    "% Chris Sherwood, USGS\n",
    "% Sept 26, 2005\n",
    "% minor edits 30 Dec 2015\n",
    "% conversion to Python June 2024\n",
    "\"\"\"\n",
    "mu = np.mean(u)\n",
    "mv = np.mean(v)\n",
    "# m is 2D array containing multiple variables and observations.\n",
    "# Each row of m represents a variable, \n",
    "# and each column a single observation of all those variables\n",
    "m = np.squeeze( np.dstack( (u,v) ) ).T\n",
    "C = np.cov( m );\n",
    "(V,D) = np.linalg.eig(C);\n",
    "\n",
    "x1 = [.5*sqrt(D(1,1))*V(1,1);-.5*sqrt(D(1,1))*V(1,1)];\n",
    "y1 = [.5*sqrt(D(1,1))*V(2,1);-.5*sqrt(D(1,1))*V(2,1)];\n",
    "x2 = [.5*sqrt(D(2,2))*V(1,2);-.5*sqrt(D(2,2))*V(1,2)];\n",
    "y2 = [.5*sqrt(D(2,2))*V(2,2);-.5*sqrt(D(2,2))*V(2,2)];\n",
    "[mspd, mdir]=pcoord( mu, mv );\n",
    "[ l1, az1 ] = pcoord( x1(1), y1(1) );\n",
    "[ l2, az2 ] = pcoord( x2(1), y2(1) );\n",
    "if(l1 < l2),\n",
    "  ltemp = l1; aztemp = az1;\n",
    "  l1 = l2;    az1 = az2;\n",
    "  l2 = ltemp; az2 = aztemp;\n",
    "end\n",
    "sd1 = 2*l1;\n",
    "sd2 = 2*l2;\n",
    "\n",
    "if(ipost),\n",
    "   hh1=plot(u(:),v(:),'ob');\n",
    "   set(hh1,'markerfacecolor',[.9 .2 .2],'markeredgecolor',[.2 .2 .2],'markersize',4);\n",
    "   hold on\n",
    "   axis('square');\n",
    "   axis([-s s -s s])\n",
    "   ts = ['Speed= ',sprintf('%4.2f',mspd),'; Dir.= ',sprintf('%3.0f',mdir) ];\n",
    "   hh2=text(-.8*s,.8*s,ts);\n",
    "   set(hh2,'fontsize',14);\n",
    "   for i=1:2\n",
    "      eval(['[ leng(i), az(i) ] = pcoord( x' num2str(i) '(1), y' num2str(i) '(1) );']);\n",
    "   end\n",
    "   ts = ['Major axis: Mag.= ',sprintf('%4.2f',sd1),'; Az.= ',sprintf('%3.0f',az1) ];\n",
    "   hh2=text(-.8*s,.6*s,ts);\n",
    "   set(hh2,'fontsize',14);\n",
    "   hh3=plot(x1,y1,'-r',x2,y2,'color',[1 .1 .1],'linewidth',2);\n",
    "   hh4=plot([0; mu],[0; mv],'color',[.1 .1 1],'linewidth',2.5);\n",
    "   xlabel('East ({\\itu}) component (cm/s)','fontsize',14);\n",
    "   ylabel('North ({\\itv}) component (cm/s)','fontsize',14);\n",
    "   grid\n",
    "end\n"
   ]
  }
 ],
 "metadata": {
  "kernelspec": {
   "display_name": "Python 3 (ipykernel)",
   "language": "python",
   "name": "python3"
  },
  "language_info": {
   "codemirror_mode": {
    "name": "ipython",
    "version": 3
   },
   "file_extension": ".py",
   "mimetype": "text/x-python",
   "name": "python",
   "nbconvert_exporter": "python",
   "pygments_lexer": "ipython3",
   "version": "3.9.16"
  }
 },
 "nbformat": 4,
 "nbformat_minor": 5
}
